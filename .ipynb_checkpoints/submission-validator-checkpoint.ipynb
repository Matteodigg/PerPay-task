{
 "cells": [
  {
   "cell_type": "code",
   "execution_count": 1,
   "id": "524e11f6-8f6b-4b1a-a866-4ebd13377786",
   "metadata": {
    "tags": []
   },
   "outputs": [],
   "source": [
    "import pandas as pd\n",
    "\n",
    "df = pd.read_csv('loans.csv')\n",
    "p = pd.read_csv('predictions.csv')\n",
    "# p = pd.read_csv('predictions_raw.csv')"
   ]
  },
  {
   "cell_type": "code",
   "execution_count": 2,
   "id": "aa527eb8-13a0-4bf8-84a2-31241f627b92",
   "metadata": {
    "tags": []
   },
   "outputs": [],
   "source": [
    "for x in [df, p]:\n",
    "    x.set_index(pd.to_datetime(x['Date of Repayment']), inplace=True)\n",
    "    p.set_index(pd.to_datetime(x['Date of Repayment']), inplace=True)"
   ]
  },
  {
   "cell_type": "markdown",
   "id": "39db9190-c6ec-4888-aa49-e9ab1d6f49f0",
   "metadata": {},
   "source": [
    "# Validate"
   ]
  },
  {
   "cell_type": "code",
   "execution_count": 3,
   "id": "28f9df64-7884-41f3-afa4-d7e55bbb194a",
   "metadata": {
    "tags": []
   },
   "outputs": [],
   "source": [
    "import numpy as np\n",
    "\n",
    "compare = [\n",
    "    (df['Default (as of 2023-05-09)'], p['Default (as of 2023-06-08)']),\n",
    "    (p['Default (as of 2023-06-08)'], p['Default (as of 2023-07-08)']),\n",
    "    (p['Default (as of 2023-07-08)'], p['Default (as of 2023-08-07)']),\n",
    "    (p['Default (as of 2023-08-07)'], p['Default (fully mature)']),\n",
    "]\n",
    "\n",
    "for s1, s2 in compare:\n",
    "    assert ((s1 <= s2) | np.isclose(s1, s2)).all(), 'delinquency should not decrease with time'"
   ]
  },
  {
   "cell_type": "code",
   "execution_count": 4,
   "id": "48f6635c-6dd9-4423-81f6-a958cf0b59db",
   "metadata": {
    "tags": []
   },
   "outputs": [],
   "source": [
    "compare = [\n",
    "    (df['Liquidation (as of 2023-05-09)'], p['Liquidation (as of 2023-06-08)']),\n",
    "    (p['Liquidation (as of 2023-06-08)'], p['Liquidation (as of 2023-07-08)']),\n",
    "    (p['Liquidation (as of 2023-07-08)'], p['Liquidation (as of 2023-08-07)']),\n",
    "    (p['Liquidation (as of 2023-08-07)'], p['Liquidation (fully mature)']),\n",
    "]\n",
    "\n",
    "for s1, s2 in compare:\n",
    "    assert ((s1 <= s2) | np.isclose(s1, s2)).all(), 'liquidation should not decrease with time'"
   ]
  },
  {
   "cell_type": "code",
   "execution_count": 5,
   "id": "15621fd8-a6fd-437b-abe2-20222678d42d",
   "metadata": {
    "tags": []
   },
   "outputs": [],
   "source": [
    "t0 = '2023-05-09'\n",
    "for n in [30, 60, 90]:\n",
    "    date = (pd.to_datetime(t0) + pd.to_timedelta(n, unit='days'))\n",
    "    assert (p[f'Default (as of {date.date()})'][(date - p.index).days < 120] == 0).all(), 'loans cannot charge off sooner than 120 days inflight'"
   ]
  },
  {
   "cell_type": "code",
   "execution_count": 6,
   "id": "ac19d276-22cd-45d6-86b9-54f9616bf0c5",
   "metadata": {
    "scrolled": true,
    "tags": []
   },
   "outputs": [],
   "source": [
    "import numpy as np\n",
    "\n",
    "p_mature_all = p['Liquidation (fully mature)'] + p['Default (fully mature)']\n",
    "assert np.isclose(df['Number of Loans'], p_mature_all, atol=1e-3).all(), 'all loans must be accounted for in the mature predictions'"
   ]
  }
 ],
 "metadata": {
  "kernelspec": {
   "display_name": "MDG_Perpay_task",
   "language": "python",
   "name": "mdg_perpay_task"
  },
  "language_info": {
   "codemirror_mode": {
    "name": "ipython",
    "version": 3
   },
   "file_extension": ".py",
   "mimetype": "text/x-python",
   "name": "python",
   "nbconvert_exporter": "python",
   "pygments_lexer": "ipython3",
   "version": "3.12.3"
  }
 },
 "nbformat": 4,
 "nbformat_minor": 5
}
